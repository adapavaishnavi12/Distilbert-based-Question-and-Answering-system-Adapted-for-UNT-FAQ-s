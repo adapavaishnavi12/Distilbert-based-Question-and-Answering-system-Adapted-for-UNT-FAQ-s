{
 "cells": [
  {
   "cell_type": "markdown",
   "id": "0628de15-26f2-44c3-9757-5cd8881bc018",
   "metadata": {},
   "source": [
    "Formatting our CSV data to fit it in to Distilbert"
   ]
  },
  {
   "cell_type": "code",
   "execution_count": 1,
   "id": "5049526d-d269-4b85-9944-3e6641fe7984",
   "metadata": {},
   "outputs": [
    {
     "name": "stdout",
     "output_type": "stream",
     "text": [
      "{'context': 'The UNT Writing Center provides support for undergraduate and graduate writers across the disciplines. Our mission is to help students at all levels improve as writers. Here are some frequently asked questions about what we do and how to use our services. Everyone! We believe that all writers will benefit from sharing their work with a tutor. Whether you are an undergraduate student writing your first college paper or a graduate student working on a dissertation we can help. In addition to helping with coursework we can also help with resums cover letters and personal statements. We are excited to work with writers in the humanities and social sciences as well as writers in the physical and biological sciences. We also work with short and long writing projects at any stage. We have highly skilled undergraduate tutors from many different majors who were selected for their strong writing ability and their desire to help their peers. Tutors receive initial and ongoing training in writing genres citation conventions facilitating discussion and assessing drafts. We also have graduatewriting tutors who work exclusively with graduate students. Appointments for undergraduates are 30 minutes long. Graduate appointments are one hour if scheduled with a graduate tutor. Your tutor will want to start by chatting with you about your assignment or writing project. If you have a draft the tutor will want to go over it to get a sense of the paper as a whole. You and your tutor will decide together what to focus on in terms of revision. Here are just a few writing topics you might discuss Developing your ideas Creating and supporting an argument Understanding grammar rules Making your writing more clear Making your writing more concise Understanding citations and paraphrasing Developing structure and organization Writing introductions and conclusions. Please bring the assignment instructions if you have them. Bring a draft or we can help you brainstorm or start an outline. We have a few computers in our main center for use during appointments and you are always welcome to bring a laptop. We have three locations at UNT Sage Hall 150 Willis Library 250J Walkins only. Our main center in Sage Hall 150 is appointment only though during slower times of the semester or when we have cancellations you may be able to get in right away. Stop by or call 940.565.2563 to schedule an appointment. Our hours are from 900 a.m.  900 p.m. Monday  Thursday and from 900 a.m.  300 p.m. on Fridays. We offer evening walkins at Willis Library Sunday  Thursday from 500 p.m. to 900 p.m. You can stop by at 500 p.m. when the tutor arrives to sign up for a slot that nightwalkins are first come first served. All students may have up to 1 hour of instruction total per day i.e. one 30minute appointment in the main center and a 30minute appointment in the library or two 30minute appointments in the main center not backtoback. Graduate students working with our graduate tutors can schedule 1 hour of instruction per week either online or inperson. Yes! We have interactive online appointments in our main center from 900 a.m.  900 p.m. Monday  Thursday and from 900 p.m.  300 p.m. on Fridays. Please call 940.565.2563 or email us at WritingCenterunt.edu to schedule an online appointment. Our graduate tutors also offer online appointments for graduate students. Email GradWritingunt.edu to schedule an online appointment. Ideally we recommend seeing us early and often! The more appointments you have the more improvement you will likely see in your writing. We also recommend coming in to see us at multiple stages of writing allowing ample time after each appointment for revision. We also understand that the ideal may not always be possible but thats okaywell still be happy to work with you. Please keep in mind that if you have a long draft or a complex project we are not likely to get through all of it in one appointment. During an inperson session you can generally expect to work on about five pages though this varies. For online appointments it usually takes longer to get through the same draft versus inperson i.e. it may take an hour to work in detail on a fivepage draft so please plan accordingly. Visit us Sage Hall 150 Email us WritingCenterunt.edu Call us 940.565.2571', 'qas': [{'question': 'How Can I Contact You?', 'id': '2_18', 'answers': [{'text': 'Visit us Sage Hall 150 Email usWritingCenterunt.edu Call us 940.565.2563', 'answer_start': -1}]}], 'CID': 2, 'Category': 'Writing Center'}\n"
     ]
    }
   ],
   "source": [
    "import pandas as pd\n",
    "\n",
    "# Load CSV data into a DataFrame\n",
    "data = pd.read_csv('C:/Users/adith/Downloads/nlp testttt/C_Data.csv', encoding='latin1')\n",
    "\n",
    "# Initialize an empty list to store formatted data\n",
    "formatted_data = []\n",
    "\n",
    "# Iterate through each row in the CSV data\n",
    "for idx, row in data.iterrows():\n",
    "    # Handle NaN values by replacing them with empty strings\n",
    "    context = str(row['Context']) if not pd.isnull(row['Context']) else ''\n",
    "    answer = str(row['Answer']) if not pd.isnull(row['Answer']) else ''\n",
    "\n",
    "    # Create a unique ID for the question within each context\n",
    "    question_id = f\"{row['CID']}_{idx}\"  # Using CID and index for unique question ID\n",
    "    \n",
    "    # Create a dictionary for each row in the required format\n",
    "    formatted_row = {\n",
    "        \"context\": context,\n",
    "        \"qas\": [\n",
    "            {\n",
    "                \"question\": row['Question'],\n",
    "                \"id\": question_id,  # Using the generated unique question ID\n",
    "                \"answers\": [\n",
    "                    {\n",
    "                        \"text\": answer,\n",
    "                        \"answer_start\": context.find(answer) if context and answer else -1  # Start position of the answer in the context\n",
    "                    }\n",
    "                ]\n",
    "            }\n",
    "        ],\n",
    "        \"CID\": row['CID'],  # Optionally including CID in the formatted data\n",
    "        \"Category\": row['Category']  # Optionally including Category in the formatted data\n",
    "    }\n",
    "    \n",
    "    # Append the formatted row to the list\n",
    "    formatted_data.append(formatted_row)\n",
    "\n",
    "# Print the first formatted row to verify the structure\n",
    "print(formatted_data[18])"
   ]
  },
  {
   "cell_type": "code",
   "execution_count": 5,
   "id": "47309153",
   "metadata": {},
   "outputs": [
    {
     "name": "stdout",
     "output_type": "stream",
     "text": [
      "Requirement already satisfied: transformers in c:\\users\\adith\\anaconda3\\lib\\site-packages (4.32.1)\n",
      "Requirement already satisfied: filelock in c:\\users\\adith\\anaconda3\\lib\\site-packages (from transformers) (3.9.0)\n",
      "Requirement already satisfied: huggingface-hub<1.0,>=0.15.1 in c:\\users\\adith\\anaconda3\\lib\\site-packages (from transformers) (0.15.1)\n",
      "Requirement already satisfied: numpy>=1.17 in c:\\users\\adith\\anaconda3\\lib\\site-packages (from transformers) (1.24.3)\n",
      "Requirement already satisfied: packaging>=20.0 in c:\\users\\adith\\anaconda3\\lib\\site-packages (from transformers) (23.1)\n",
      "Requirement already satisfied: pyyaml>=5.1 in c:\\users\\adith\\anaconda3\\lib\\site-packages (from transformers) (6.0)\n",
      "Requirement already satisfied: regex!=2019.12.17 in c:\\users\\adith\\anaconda3\\lib\\site-packages (from transformers) (2022.7.9)\n",
      "Requirement already satisfied: requests in c:\\users\\adith\\anaconda3\\lib\\site-packages (from transformers) (2.31.0)\n",
      "Requirement already satisfied: tokenizers!=0.11.3,<0.14,>=0.11.1 in c:\\users\\adith\\anaconda3\\lib\\site-packages (from transformers) (0.13.2)\n",
      "Requirement already satisfied: safetensors>=0.3.1 in c:\\users\\adith\\anaconda3\\lib\\site-packages (from transformers) (0.3.2)\n",
      "Requirement already satisfied: tqdm>=4.27 in c:\\users\\adith\\anaconda3\\lib\\site-packages (from transformers) (4.65.0)\n",
      "Requirement already satisfied: fsspec in c:\\users\\adith\\anaconda3\\lib\\site-packages (from huggingface-hub<1.0,>=0.15.1->transformers) (2023.4.0)\n",
      "Requirement already satisfied: typing-extensions>=3.7.4.3 in c:\\users\\adith\\anaconda3\\lib\\site-packages (from huggingface-hub<1.0,>=0.15.1->transformers) (4.7.1)\n",
      "Requirement already satisfied: colorama in c:\\users\\adith\\anaconda3\\lib\\site-packages (from tqdm>=4.27->transformers) (0.4.6)\n",
      "Requirement already satisfied: charset-normalizer<4,>=2 in c:\\users\\adith\\anaconda3\\lib\\site-packages (from requests->transformers) (2.0.4)\n",
      "Requirement already satisfied: idna<4,>=2.5 in c:\\users\\adith\\anaconda3\\lib\\site-packages (from requests->transformers) (3.4)\n",
      "Requirement already satisfied: urllib3<3,>=1.21.1 in c:\\users\\adith\\anaconda3\\lib\\site-packages (from requests->transformers) (1.26.16)\n",
      "Requirement already satisfied: certifi>=2017.4.17 in c:\\users\\adith\\anaconda3\\lib\\site-packages (from requests->transformers) (2023.7.22)\n"
     ]
    }
   ],
   "source": [
    "!pip install transformers\n"
   ]
  },
  {
   "cell_type": "markdown",
   "id": "c15ead2b-92a3-4165-a9d7-aa26d3c0edf8",
   "metadata": {},
   "source": [
    "Building the single inference model which gets trained on Context column, we use DistilBertForQuestionAnswering"
   ]
  },
  {
   "cell_type": "code",
   "execution_count": 8,
   "id": "ba5069f6-2515-477b-b5f1-cee0f3764784",
   "metadata": {},
   "outputs": [
    {
     "name": "stdout",
     "output_type": "stream",
     "text": [
      "Available CIDs and Categories:\n",
      "CID: 1, Category: Policy\n",
      "CID: 2, Category: Writing Center\n",
      "CID: 3, Category: Integrity\n",
      "CID: 4, Category: Legal\n",
      "CID: 5, Category: Admissions\n",
      "CID: 6, Category: Advising\n",
      "CID: 7, Category: Navigation\n",
      "CID: 8, Category: Affairs\n",
      "CID: 9, Category: Future Students\n",
      "CID: 10, Category: Dining\n",
      "CID: 11, Category: Honors\n",
      "CID: 12, Category: General\n",
      "CID: 13, Category: Music Dept.\n",
      "Enter the CID (or type 'exit' to quit): 9\n",
      "Enter your question: is it mandatory to go to college\n",
      "\n",
      "Question: is it mandatory to go to college\n",
      "\n",
      "Answer:\n",
      "There is no separate admissions process for incoming students and no portfolio is required to begin. Yes all newly accepted students must attend orientation. No there is no animation program at UNT in any college.\n",
      "\n",
      "----------------Ask Another Question----------------------\n",
      "\n",
      "Enter the CID (or type 'exit' to quit): 9\n",
      "Enter your question:  is it mandatory to go to school\n",
      "\n",
      "Question:  is it mandatory to go to school\n",
      "\n",
      "Answer:\n",
      "There is no separate admissions process for incoming students and no portfolio is required to begin. Yes all newly accepted students must attend orientation. No there is no animation program at UNT in any college.\n",
      "\n",
      "----------------Ask Another Question----------------------\n",
      "\n",
      "Enter the CID (or type 'exit' to quit): 2\n",
      "Enter your question: what is in sage hall\n",
      "\n",
      "Question: what is in sage hall\n",
      "\n",
      "Answer:\n",
      "Visit us Sage Hall 150 Email us WritingCenterunt.edu Call us 940.565.2563 We have interactive online appointments in our main center from 900 a.m.  900 p.m. Monday  Thursday and from 900 p.m.  300 p.m. on Fridays. Our main center in Sage Hall 150 is appointment only though during slower times of the semester or when we have cancellations you may be able to get in right away.\n",
      "\n",
      "----------------Ask Another Question----------------------\n",
      "\n",
      "Enter the CID (or type 'exit' to quit): 2\n",
      "Enter your question: what is in seige hall\n",
      "\n",
      "Question: what is in seige hall\n",
      "\n",
      "Answer:\n",
      "We have interactive online appointments in our main center from 900 a.m.  900 p.m. Monday  Thursday and from 900 p.m.  300 p.m. on Fridays. We offer evening walkins at Willis Library Sunday  Thursday from 500 p.m. to 900 p.m. You can stop by at 500 p.m. when the tutor arrives to sign up for a slot that nightwalkins are first come first served. In addition to helping with coursework we can also help with resums cover letters and personal statements.\n",
      "\n",
      "----------------Ask Another Question----------------------\n",
      "\n",
      "Enter the CID (or type 'exit' to quit): 2\n",
      "Enter your question: is appointment necessary?\n",
      "\n",
      "Question: is appointment necessary?\n",
      "\n",
      "Answer:\n",
      "Appointments for undergraduates are 30 minutes long. If you have a draft the tutor will want to go over it to get a sense of the paper as a whole. Please bring the assignment instructions if you have them.\n",
      "\n",
      "----------------Ask Another Question----------------------\n",
      "\n"
     ]
    },
    {
     "ename": "KeyboardInterrupt",
     "evalue": "Interrupted by user",
     "output_type": "error",
     "traceback": [
      "\u001b[1;31m---------------------------------------------------------------------------\u001b[0m",
      "\u001b[1;31mKeyboardInterrupt\u001b[0m                         Traceback (most recent call last)",
      "Cell \u001b[1;32mIn[8], line 17\u001b[0m\n\u001b[0;32m     13\u001b[0m     \u001b[38;5;28mprint\u001b[39m(\u001b[38;5;124mf\u001b[39m\u001b[38;5;124m\"\u001b[39m\u001b[38;5;124mCID: \u001b[39m\u001b[38;5;132;01m{\u001b[39;00mcid\u001b[38;5;132;01m}\u001b[39;00m\u001b[38;5;124m, Category: \u001b[39m\u001b[38;5;132;01m{\u001b[39;00mcategory\u001b[38;5;132;01m}\u001b[39;00m\u001b[38;5;124m\"\u001b[39m)\n\u001b[0;32m     15\u001b[0m \u001b[38;5;28;01mwhile\u001b[39;00m \u001b[38;5;28;01mTrue\u001b[39;00m:\n\u001b[0;32m     16\u001b[0m     \u001b[38;5;66;03m# Ask user to input a CID\u001b[39;00m\n\u001b[1;32m---> 17\u001b[0m     selected_cid \u001b[38;5;241m=\u001b[39m \u001b[38;5;28minput\u001b[39m(\u001b[38;5;124m\"\u001b[39m\u001b[38;5;124mEnter the CID (or type \u001b[39m\u001b[38;5;124m'\u001b[39m\u001b[38;5;124mexit\u001b[39m\u001b[38;5;124m'\u001b[39m\u001b[38;5;124m to quit): \u001b[39m\u001b[38;5;124m\"\u001b[39m)\n\u001b[0;32m     19\u001b[0m     \u001b[38;5;28;01mif\u001b[39;00m selected_cid\u001b[38;5;241m.\u001b[39mlower() \u001b[38;5;241m==\u001b[39m \u001b[38;5;124m'\u001b[39m\u001b[38;5;124mexit\u001b[39m\u001b[38;5;124m'\u001b[39m:\n\u001b[0;32m     20\u001b[0m         \u001b[38;5;28mprint\u001b[39m(\u001b[38;5;124m\"\u001b[39m\u001b[38;5;124mExiting...\u001b[39m\u001b[38;5;124m\"\u001b[39m)\n",
      "File \u001b[1;32m~\\anaconda3\\Lib\\site-packages\\ipykernel\\kernelbase.py:1202\u001b[0m, in \u001b[0;36mKernel.raw_input\u001b[1;34m(self, prompt)\u001b[0m\n\u001b[0;32m   1200\u001b[0m     msg \u001b[38;5;241m=\u001b[39m \u001b[38;5;124m\"\u001b[39m\u001b[38;5;124mraw_input was called, but this frontend does not support input requests.\u001b[39m\u001b[38;5;124m\"\u001b[39m\n\u001b[0;32m   1201\u001b[0m     \u001b[38;5;28;01mraise\u001b[39;00m StdinNotImplementedError(msg)\n\u001b[1;32m-> 1202\u001b[0m \u001b[38;5;28;01mreturn\u001b[39;00m \u001b[38;5;28mself\u001b[39m\u001b[38;5;241m.\u001b[39m_input_request(\n\u001b[0;32m   1203\u001b[0m     \u001b[38;5;28mstr\u001b[39m(prompt),\n\u001b[0;32m   1204\u001b[0m     \u001b[38;5;28mself\u001b[39m\u001b[38;5;241m.\u001b[39m_parent_ident[\u001b[38;5;124m\"\u001b[39m\u001b[38;5;124mshell\u001b[39m\u001b[38;5;124m\"\u001b[39m],\n\u001b[0;32m   1205\u001b[0m     \u001b[38;5;28mself\u001b[39m\u001b[38;5;241m.\u001b[39mget_parent(\u001b[38;5;124m\"\u001b[39m\u001b[38;5;124mshell\u001b[39m\u001b[38;5;124m\"\u001b[39m),\n\u001b[0;32m   1206\u001b[0m     password\u001b[38;5;241m=\u001b[39m\u001b[38;5;28;01mFalse\u001b[39;00m,\n\u001b[0;32m   1207\u001b[0m )\n",
      "File \u001b[1;32m~\\anaconda3\\Lib\\site-packages\\ipykernel\\kernelbase.py:1245\u001b[0m, in \u001b[0;36mKernel._input_request\u001b[1;34m(self, prompt, ident, parent, password)\u001b[0m\n\u001b[0;32m   1242\u001b[0m \u001b[38;5;28;01mexcept\u001b[39;00m \u001b[38;5;167;01mKeyboardInterrupt\u001b[39;00m:\n\u001b[0;32m   1243\u001b[0m     \u001b[38;5;66;03m# re-raise KeyboardInterrupt, to truncate traceback\u001b[39;00m\n\u001b[0;32m   1244\u001b[0m     msg \u001b[38;5;241m=\u001b[39m \u001b[38;5;124m\"\u001b[39m\u001b[38;5;124mInterrupted by user\u001b[39m\u001b[38;5;124m\"\u001b[39m\n\u001b[1;32m-> 1245\u001b[0m     \u001b[38;5;28;01mraise\u001b[39;00m \u001b[38;5;167;01mKeyboardInterrupt\u001b[39;00m(msg) \u001b[38;5;28;01mfrom\u001b[39;00m \u001b[38;5;28;01mNone\u001b[39;00m\n\u001b[0;32m   1246\u001b[0m \u001b[38;5;28;01mexcept\u001b[39;00m \u001b[38;5;167;01mException\u001b[39;00m:\n\u001b[0;32m   1247\u001b[0m     \u001b[38;5;28mself\u001b[39m\u001b[38;5;241m.\u001b[39mlog\u001b[38;5;241m.\u001b[39mwarning(\u001b[38;5;124m\"\u001b[39m\u001b[38;5;124mInvalid Message:\u001b[39m\u001b[38;5;124m\"\u001b[39m, exc_info\u001b[38;5;241m=\u001b[39m\u001b[38;5;28;01mTrue\u001b[39;00m)\n",
      "\u001b[1;31mKeyboardInterrupt\u001b[0m: Interrupted by user"
     ]
    }
   ],
   "source": [
    "from transformers import DistilBertTokenizer, DistilBertForQuestionAnswering\n",
    "import torch\n",
    "import nltk\n",
    "\n",
    "\n",
    "tokenizer = DistilBertTokenizer.from_pretrained('distilbert-base-uncased', return_token_type_ids=True)\n",
    "model = DistilBertForQuestionAnswering.from_pretrained('distilbert-base-uncased-distilled-squad')\n",
    "\n",
    "# Display the available CIDs and their respective categories\n",
    "cid_categories = {row['CID']: row['Category'] for row in formatted_data}\n",
    "print(\"Available CIDs and Categories:\")\n",
    "for cid, category in cid_categories.items():\n",
    "    print(f\"CID: {cid}, Category: {category}\")\n",
    "\n",
    "while True:\n",
    "    # Ask user to input a CID\n",
    "    selected_cid = input(\"Enter the CID (or type 'exit' to quit): \")\n",
    "\n",
    "    if selected_cid.lower() == 'exit':\n",
    "        print(\"Exiting...\")\n",
    "        break\n",
    "\n",
    "    try:\n",
    "        selected_cid = int(selected_cid)\n",
    "    except ValueError:\n",
    "        print(\"Please enter a valid CID or 'exit' to quit.\")\n",
    "        continue\n",
    "\n",
    "    selected_context = None\n",
    "    for data in formatted_data:\n",
    "        if data['CID'] == selected_cid:\n",
    "            selected_context = data['context']\n",
    "            break\n",
    "\n",
    "    if selected_context:\n",
    "        # Ask user to input a question\n",
    "        question_to_predict = input(\"Enter your question: \")\n",
    "\n",
    "        # Tokenize the context into sentences\n",
    "        sentences = nltk.sent_tokenize(selected_context)\n",
    "\n",
    "        # Calculate sentence similarity with the question\n",
    "        similarity_scores = []\n",
    "        for sentence in sentences:\n",
    "            encoding = tokenizer.encode_plus(\n",
    "                question_to_predict, sentence, return_tensors=\"pt\", max_length=512, truncation=True\n",
    "            )\n",
    "            input_ids, attention_mask = encoding[\"input_ids\"], encoding[\"attention_mask\"]\n",
    "\n",
    "            with torch.no_grad():\n",
    "                outputs = model(input_ids=input_ids, attention_mask=attention_mask)\n",
    "\n",
    "            start_scores = outputs.start_logits\n",
    "            end_scores = outputs.end_logits\n",
    "\n",
    "            # Calculate similarity score\n",
    "            start_index = torch.argmax(start_scores)\n",
    "            end_index = torch.argmax(end_scores) + 1\n",
    "            answer_tokens = input_ids[0][start_index:end_index]\n",
    "\n",
    "            similarity_score = torch.max(start_scores)  # Using the maximum start score as a similarity measure\n",
    "            similarity_scores.append((sentence, similarity_score.item()))\n",
    "\n",
    "        # Sort sentences by similarity score\n",
    "        sorted_sentences = sorted(similarity_scores, key=lambda x: x[1], reverse=True)\n",
    "\n",
    "        # Select top sentences based on relevance to the question\n",
    "        selected_sentences = [sentence[0] for sentence in sorted_sentences[:3]]  # Adjust the number of sentences to select\n",
    "\n",
    "        answers = \" \".join(selected_sentences)\n",
    "\n",
    "        print(\"\\nQuestion:\", question_to_predict)\n",
    "        print(\"\\nAnswer:\")\n",
    "        print(answers)\n",
    "        print(\"\\n----------------Ask Another Question----------------------\\n\")\n",
    "    else:\n",
    "        print(\"CID not found or no context available for the selected CID.\")"
   ]
  },
  {
   "cell_type": "code",
   "execution_count": 7,
   "id": "38fbf820",
   "metadata": {},
   "outputs": [
    {
     "name": "stderr",
     "output_type": "stream",
     "text": [
      "[nltk_data] Downloading package punkt to\n",
      "[nltk_data]     C:\\Users\\adith\\AppData\\Roaming\\nltk_data...\n",
      "[nltk_data]   Unzipping tokenizers\\punkt.zip.\n"
     ]
    },
    {
     "data": {
      "text/plain": [
       "True"
      ]
     },
     "execution_count": 7,
     "metadata": {},
     "output_type": "execute_result"
    }
   ],
   "source": [
    "nltk.download('punkt')"
   ]
  },
  {
   "cell_type": "code",
   "execution_count": null,
   "id": "8f1ed46c",
   "metadata": {},
   "outputs": [],
   "source": []
  }
 ],
 "metadata": {
  "kernelspec": {
   "display_name": "Python 3 (ipykernel)",
   "language": "python",
   "name": "python3"
  },
  "language_info": {
   "codemirror_mode": {
    "name": "ipython",
    "version": 3
   },
   "file_extension": ".py",
   "mimetype": "text/x-python",
   "name": "python",
   "nbconvert_exporter": "python",
   "pygments_lexer": "ipython3",
   "version": "3.11.5"
  }
 },
 "nbformat": 4,
 "nbformat_minor": 5
}
